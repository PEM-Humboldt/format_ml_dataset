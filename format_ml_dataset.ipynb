{
 "cells": [
  {
   "cell_type": "markdown",
   "metadata": {},
   "source": [
    "# Formatear anotaciones y audio para reconocimiento de patrones\n",
    "\n",
    "Este documento describe un paso a paso para usar anotaciones y registros sonoros para crear un set de datos fáciles de usar en un flujo de trabajo de Machine Learning. Las anotaciones siguen el formato Darwin Core de eventos de monitoreo y están alojados en la infraestructura de de datos.\n",
    "\n",
    "## Dependencias\n",
    "----\n",
    "\n",
    "Paquetes necesarios para correr este script:\n",
    "- Python >= 3.5\n",
    "- Pandas >= 0.24\n",
    "- Librosa >= 0.6\n",
    "\n",
    "## Annotaciones manuales\n",
    "----\n",
    "\n",
    "Para acceder a estas noataciones es necesario pedir autorización a la I2D.\n",
    "- http://i2d.humboldt.org.co/ceiba/resource.do?r=rbb_aves_cesar_2017\n",
    "- http://i2d.humboldt.org.co/ceiba/resource.do?r=rbb_aves_guajira_2016\n",
    "- http://i2d.humboldt.org.co/ceiba/resource.do?r=rbb_aves_bolivar_2017\n",
    "\n",
    "## Registros sonoros\n",
    "Los registros sonoros se encuentran alojados en la [colección de sonidos ambientales (CSA)](http://www.humboldt.org.co/es/noticias/actualidad/item/152-coleccion-de-sonidos-ambientales). Para acceder a estos es necesario pedir permiso escribiendo a coleccionesbiologicas@humboldt.org.co\n"
   ]
  },
  {
   "cell_type": "markdown",
   "metadata": {},
   "source": [
    "## 1. Cargar librerías y funciones\n",
    "----"
   ]
  },
  {
   "cell_type": "code",
   "execution_count": null,
   "metadata": {},
   "outputs": [],
   "source": [
    "import pandas as pd\n",
    "import librosa\n",
    "from os import path\n",
    "\n",
    "def load_format_excel(fname):\n",
    "    df = pd.read_excel(fname)\n",
    "    \n",
    "    cols_idx = ['genus','specificEpithet', 'infraspecificEpithet',\n",
    "                'record number',\n",
    "                'Valor de la medida (Calidad Corte)',\n",
    "                'Valor de la medida (Duración en segundos)',\n",
    "                'Valor de la medida (Tiempo Inicial en Segundosundos)',\n",
    "                'Valor de la medida (Tiempo final en Segundosundos)',\n",
    "                'Valor de la medida (Tipo de Canto)']\n",
    "    \n",
    "    \n",
    "    df = df.loc[:,cols_idx]\n",
    "    df['sp_name'] = df['genus'] + ' ' + df['specificEpithet']\n",
    "    return df"
   ]
  },
  {
   "cell_type": "markdown",
   "metadata": {},
   "source": [
    "## 2. Ajustar variables\n",
    "----"
   ]
  },
  {
   "cell_type": "code",
   "execution_count": null,
   "metadata": {},
   "outputs": [],
   "source": [
    "path_annot = '../annotations/test.xlsx'\n",
    "path_dir_save = '../audio_regions/'\n",
    "path_audio = '../audio/'\n",
    "path_metadata = '../audio_regions/audio_metadata.csv'\n",
    "troom = 1 # room before and after audio region in seconds\n",
    "fs =22050"
   ]
  },
  {
   "cell_type": "markdown",
   "metadata": {},
   "source": [
    "## 3. Realizar cortes en cada archivo de audio\n",
    "----"
   ]
  },
  {
   "cell_type": "markdown",
   "metadata": {},
   "source": [
    "Dar nuevo formato al DataFrame según archivos de audio"
   ]
  },
  {
   "cell_type": "code",
   "execution_count": null,
   "metadata": {},
   "outputs": [],
   "source": [
    "df = load_format_excel(path_annot)\n",
    "df = df.loc[df['record number'].notna(),:]\n",
    "gpby = df.groupby('record number')"
   ]
  },
  {
   "cell_type": "markdown",
   "metadata": {},
   "source": [
    "Ciclo recorriendo cada archivo y segmentando cada vocalización anotada"
   ]
  },
  {
   "cell_type": "code",
   "execution_count": null,
   "metadata": {},
   "outputs": [],
   "source": [
    "# For each group of annotations in an audio file\n",
    "for fname, df_gp in gpby:\n",
    "    audio_fname = path_audio + fname\n",
    "    if path.exists(audio_fname):\n",
    "        print('Loading file', audio_fname)\n",
    "        s, fs = librosa.load(audio_fname, sr=fs)\n",
    "        \n",
    "    else:\n",
    "        print('File not found, skipping:\\n', audio_fname)\n",
    "    # For each annotation\n",
    "    for idx, row in df_gp.iterrows():\n",
    "        fname_save = row['genus']+'_'+row['specificEpithet']+'_'+str(idx).zfill(3)+'.wav'\n",
    "        print('Processing: ', fname_save)\n",
    "        # segment and save audio\n",
    "        tlims = [int(row['Valor de la medida (Tiempo Inicial en Segundosundos)']*fs), \n",
    "                 int(row['Valor de la medida (Tiempo final en Segundosundos)']*fs)]\n",
    "        s_cut = s[tlims[0]-troom*fs:tlims[1]+troom*fs]\n",
    "        librosa.output.write_wav(y=s_cut,\n",
    "                                 path=path_dir_save+fname_save,\n",
    "                                 sr=fs)"
   ]
  }
 ],
 "metadata": {
  "kernelspec": {
   "display_name": "Python 3",
   "language": "python",
   "name": "python3"
  },
  "language_info": {
   "codemirror_mode": {
    "name": "ipython",
    "version": 3
   },
   "file_extension": ".py",
   "mimetype": "text/x-python",
   "name": "python",
   "nbconvert_exporter": "python",
   "pygments_lexer": "ipython3",
   "version": "3.6.9"
  },
  "toc": {
   "base_numbering": 1,
   "nav_menu": {},
   "number_sections": false,
   "sideBar": true,
   "skip_h1_title": false,
   "title_cell": "Table of Contents",
   "title_sidebar": "Contents",
   "toc_cell": false,
   "toc_position": {},
   "toc_section_display": true,
   "toc_window_display": true
  }
 },
 "nbformat": 4,
 "nbformat_minor": 4
}
